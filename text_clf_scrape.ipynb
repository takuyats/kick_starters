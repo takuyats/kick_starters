{
  "nbformat": 4,
  "nbformat_minor": 0,
  "metadata": {
    "colab": {
      "name": "text_clf_scrape.ipynb",
      "provenance": [],
      "collapsed_sections": [],
      "authorship_tag": "ABX9TyNF+s7av8iWiIthNfisEghb",
      "include_colab_link": true
    },
    "kernelspec": {
      "name": "python3",
      "display_name": "Python 3"
    }
  },
  "cells": [
    {
      "cell_type": "markdown",
      "metadata": {
        "id": "view-in-github",
        "colab_type": "text"
      },
      "source": [
        "<a href=\"https://colab.research.google.com/github/takuyats/kick_starters/blob/master/text_clf_scrape.ipynb\" target=\"_parent\"><img src=\"https://colab.research.google.com/assets/colab-badge.svg\" alt=\"Open In Colab\"/></a>"
      ]
    },
    {
      "cell_type": "code",
      "metadata": {
        "id": "J7Ea9nP6vqv6",
        "colab_type": "code",
        "colab": {}
      },
      "source": [
        "!apt-get -y install mecab libmecab-dev mecab-ipadic-utf8 > /dev/null\n",
        "!pip install mecab-python3 > /dev/null\n",
        "!pip install ngboost > /dev/null"
      ],
      "execution_count": 0,
      "outputs": []
    },
    {
      "cell_type": "code",
      "metadata": {
        "id": "BgMbt95_vtg3",
        "colab_type": "code",
        "colab": {}
      },
      "source": [
        "!pip install requests > /dev/null\n",
        "!pip install scrapy > /dev/null"
      ],
      "execution_count": 0,
      "outputs": []
    },
    {
      "cell_type": "code",
      "metadata": {
        "id": "1XgaIq_yv8QY",
        "colab_type": "code",
        "colab": {}
      },
      "source": [
        "import requests\n",
        "from bs4 import BeautifulSoup\n",
        "import scrapy\n",
        "import re"
      ],
      "execution_count": 0,
      "outputs": []
    },
    {
      "cell_type": "code",
      "metadata": {
        "id": "FSEyxmWk4bey",
        "colab_type": "code",
        "colab": {}
      },
      "source": [
        "#初回のみ\n",
        "target_url = \"https://ja.wikipedia.org/wiki/%E9%A2%A8%E8%BB%8A\"\n",
        "#Requestsを使って、webから取得\n",
        "r = requests.get(target_url)\n",
        "#要素を抽出\n",
        "soup = BeautifulSoup(r.text, 'lxml')"
      ],
      "execution_count": 0,
      "outputs": []
    },
    {
      "cell_type": "code",
      "metadata": {
        "id": "OAAeojh4_H2_",
        "colab_type": "code",
        "colab": {}
      },
      "source": [
        "#divタグの内容を取得\n",
        "elems = soup.find_all(\"p\")"
      ],
      "execution_count": 0,
      "outputs": []
    },
    {
      "cell_type": "code",
      "metadata": {
        "id": "rie7qoP0-0zG",
        "colab_type": "code",
        "colab": {
          "base_uri": "https://localhost:8080/",
          "height": 1000
        },
        "outputId": "56630639-6acc-4b89-8804-b253e66b48c6"
      },
      "source": [
        "for e in elems:\n",
        "    print(e.getText())"
      ],
      "execution_count": 63,
      "outputs": [
        {
          "output_type": "stream",
          "text": [
            "風車（ふうしゃ、かざぐるま）は羽根車に風を受けて回転し、風力から動力を得るための装置。発電・製粉・風速計などに使われる。「かざぐるま」と読むと、羽根車に柄を付け、風の力で回して遊ぶ玩具も含まれる（風車 (玩具)参照）。\n",
            "\n",
            "英語では windmill だが、mill（原義は碾き臼）でわかるとおり、windmill は本来は製粉の動力に使われるものを指す。また、風力発電などに使われる現代風の風車（風力原動機）は wind turbine とよばれるが、日本語ではこれらを含めて風車と呼ばれることが多い。\n",
            "\n",
            "風車の起源ははっきりしない。紀元前36世紀ごろ、エジプトで灌漑に使われたという記録がある。\n",
            "\n",
            "1世紀初頭、アレクサンドリアのヘロンは、アネムリオン（風車を動力として風を送るオルガン）を設計した。\n",
            "\n",
            "ウィンドミル（製粉用風車）は、ペルシャで誕生した。中央アジアのシースターン（イランとアフガニスタンの国境地域）で10世紀頃に建造されたのが最古である。その後、十字軍やモンゴル帝国の遠征により、ヨーロッパと中国に伝えられた。[1]\n",
            "\n",
            "初期の風車は、方位制御機構が不要な垂直軸風車だった。12世紀末、北西ヨーロッパに、方位制御機構を備えた水平軸風車が現れた。これはイスラムから伝わった垂直軸風車とは独立に発明されたという説もある。\n",
            "\n",
            "15世紀、オランダで干拓地の排水用に風車が多用され始めた。これらはのちに蒸気機関に、さらには電動ポンプにとってかわられ、現在は観光資源ないし一部は「キンデルダイク＝エルスハウトの風車網」として世界遺産に登録されているが、少数が今も現役で排水に使われている。\n",
            "\n",
            "1887年、イギリスのJ.ブライスが初めて風力で発電し、二次電池に蓄電した。1888年にはアメリカでC.F.ブラッシュが直径17mの多翼型風車で発電を行った[2]。\n",
            "\n",
            "日本でも明治初期より海軍技師・湘南電気研究会長だった本岡玉樹によって研究され、当初は居留外国人によって導入された事が確認されている[3]。\n",
            "\n",
            "長野県諏訪湖南では最盛時には3000台以上が泥炭層からの養分を含んだ地下水の汲み上げに使われ、1905年頃から1940年代前半まで使用され、戦後の一時期合成硫安の不足していた時期にも使用され[3]、愛知県知多半島東浦町では1921年から使用され始め、1940年頃の最盛時には100から200台程度が運転され[3]、渥美半島伊良湖岬付近では1924年頃に風車揚水が始められ、最盛時の1935年頃には200台が運転され[3]、茨城県土浦市付近桜川流域の新治郡桜村、新治村、筑波郡筑波町、大穂町では1928～29年ごろに、筑波郡谷田部の素封家高野新八が台地の開墾田で風車を使用し始め、最盛時の1936年では1000台以上が稼動して1955年頃まで使用され[3]、千葉県房総半島館山市付近の夷隅郡大原町岬町で1933年頃から使用が開始され、丸山町、千倉町では1950年代前半までの最盛時には100台の風車が稼動し、館山市の正木、川崎、湊地区では最盛時には120台が稼動していた記録があり[3]、大阪府堺市[4]で1928年に 台地の赤畑での水田で補給水を目的として水田と畑地の両方の灌漑に使われ、成績がよかったので石津川沿い、大和川沿いでも使われるようになり、赤畑に10台、石津川沿いに250台、大和川河口で25台、その少し上流で100台程度が1935年から1950年代前半まで使われていた記録が残る[3]。\n",
            "\n",
            "風車の翼（帆）は、揚力型風車では飛行機の翼、抗力型風車では帆船の帆とそれぞれ基本原理が同じである。揚力型風車は高回転・低トルク、抗力型風車は低回転・高トルク。ただし、翼（帆）の枚数を減らせば高回転・低トルク、増やせば低回転・高トルクになる。\n",
            "\n",
            "水平軸風車は、変化する風向きに対し平行であり続けなければならないため、方位制御機構が必要になる。小型の風車では方向舵などで受動的に制御するが、大型の風車では動力を使って能動的に制御することもある。なお、水平軸風車を使った風力計は、方位制御機構を利用し、風向も同時に測定することができる。\n",
            "\n",
            "垂直軸風車は、通常、回転軸が地面に対し垂直になるよう設置する。そうすれば常に回転軸に対し直角に風が吹くため、方向制御が必要ない。\n",
            "\n",
            "※1：ダリウス風車- 翼に働く遠心力が引っ張り応力として働く形状としたもの。翼ピッチは固定。\n",
            "※2：ジャイロミル風車（Hダリウス風車、直線ダリウス風車）- 直線翼とすることにより可変ピッチを可能とし、微風でも起動しやすくしたもの。\n",
            "\n",
            "ギリシャ・ミロス島から日本・小豆島に贈られた風車（セイルウィング風車）\n",
            "\n",
            "風力発電機（プロペラ風車）\n",
            "\n",
            "風速計（パドル風車）\n",
            "\n",
            "ハウステンボスミュージアムモーレンの観光用風車\n",
            "\n",
            "多翼型風車\n",
            "\n",
            "ジャイロミル風車\n",
            "\n",
            "ダリウス風車\n",
            "\n",
            "サボニウス風車\n",
            "\n",
            "ツイストサボニウス風車\n",
            "\n",
            "ポンプのように揚水・排水に使われるFlutterと呼ばれる場所も移動可能な小型の風車\n",
            "\n",
            "ポストミルと呼ばれる12世紀頃に作られるようになった初期の風車。下に架台があり上の風車部を動かして風向きに合わせるようになっている。\n",
            "\n",
            "Kokerと呼ばれるポストミルの可動部を減らしたタイプ\n",
            "\n",
            "塔風車は石造りの塔のようになった風車で、初期は風向きに合わせられず良く吹く方向に合わせる必要があったが、屋根のキャップで風向きに合わせるようになっていった。\n",
            "\n",
            "塔風車と要塞。側防塔と一体化して使用されたものは Bärwindmühle と呼ばれた。\n",
            "\n",
            "風車の羽根の止まる位置で、風車を管理している家族の状況を伝えることがある。この止まる位置による内容は、地域ごとに異なり統一されてない。下記に一例を示す。\n",
            "\n",
            "休業\n",
            "\n",
            "一時休止\n",
            "\n",
            "喜び事\n",
            "\n",
            "喪\n",
            "\n"
          ],
          "name": "stdout"
        }
      ]
    },
    {
      "cell_type": "code",
      "metadata": {
        "id": "3vnSzTdq_ClQ",
        "colab_type": "code",
        "colab": {}
      },
      "source": [
        "with open('originDataOld.html', mode='w', encoding = 'utf-8') as fw:\n",
        "    fw.write(soup.prettify())"
      ],
      "execution_count": 0,
      "outputs": []
    },
    {
      "cell_type": "code",
      "metadata": {
        "id": "J1DCAD2FFHA8",
        "colab_type": "code",
        "colab": {}
      },
      "source": [
        "#ファイル出力\n",
        "with open('originData_風車.txt', mode='a', encoding = 'utf-8') as ftext:\n",
        "    for e in elems:\n",
        "        ftext.write(e.getText())"
      ],
      "execution_count": 0,
      "outputs": []
    },
    {
      "cell_type": "code",
      "metadata": {
        "id": "ndnz7taXLJJr",
        "colab_type": "code",
        "colab": {}
      },
      "source": [
        ""
      ],
      "execution_count": 0,
      "outputs": []
    }
  ]
}