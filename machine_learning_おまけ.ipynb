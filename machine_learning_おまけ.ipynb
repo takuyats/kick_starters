{
 "cells": [
  {
   "cell_type": "code",
   "execution_count": 1,
   "metadata": {},
   "outputs": [],
   "source": [
    "import pandas as pd\n",
    "import numpy as np\n",
    "import matplotlib.pyplot as plt\n",
    "import datetime\n",
    "from sklearn.linear_model import SGDClassifier\n",
    "from sklearn.metrics import log_loss, accuracy_score, confusion_matrix"
   ]
  },
  {
   "cell_type": "markdown",
   "metadata": {},
   "source": [
    "### 特徴選択から再度実施\n",
    "### Scikit-learnによる分類\n",
    "* 実際のデータで，説明変数が多次元の場合のモデルを構築\n",
    "\n",
    "説明変数として考えられるもの\n",
    "* goal : 目標金額\n",
    "* deadline :　納期\n",
    "* launched : 開始日\n",
    "* country : PJ開催国\n",
    "* currency : 通貨の単位\n",
    "* deadline_days : 納期への近さ\n",
    "* goal_per_days : 1日あたりの目標金額\n",
    "* category_xxx : PJの小分類がxxxかどうか\n",
    "* name_length : PJ名の長さ\n",
    "* name_xxx : PJのタイトルにxxxが含まれているか"
   ]
  },
  {
   "cell_type": "code",
   "execution_count": 2,
   "metadata": {},
   "outputs": [],
   "source": [
    "#CSVファイル読み込み\n",
    "df = pd.read_csv(\"../1_data/ks-projects-201801.csv\")\n",
    "df.index.name=\"id\""
   ]
  },
  {
   "cell_type": "code",
   "execution_count": 3,
   "metadata": {},
   "outputs": [
    {
     "data": {
      "text/plain": [
       "ID                     0\n",
       "name                   4\n",
       "category               0\n",
       "main_category          0\n",
       "currency               0\n",
       "deadline               0\n",
       "goal                   0\n",
       "launched               0\n",
       "pledged                0\n",
       "state                  0\n",
       "backers                0\n",
       "country                0\n",
       "usd pledged         3797\n",
       "usd_pledged_real       0\n",
       "usd_goal_real          0\n",
       "dtype: int64"
      ]
     },
     "execution_count": 3,
     "metadata": {},
     "output_type": "execute_result"
    }
   ],
   "source": [
    "#欠損値がある列を確認\n",
    "df.isnull().sum()"
   ]
  },
  {
   "cell_type": "code",
   "execution_count": 4,
   "metadata": {},
   "outputs": [],
   "source": [
    "#欠測値がある列を落とす\n",
    "#stateが「live」のデータを落としていることを明示するためにあえて記載\n",
    "df = df[df['state'] != 'live']\n",
    "df = df[~df['name'].isnull()]\n",
    "df = df[~df['usd pledged'].isnull()]"
   ]
  },
  {
   "cell_type": "code",
   "execution_count": 5,
   "metadata": {},
   "outputs": [
    {
     "name": "stderr",
     "output_type": "stream",
     "text": [
      "/home/takuya-06261_semantic/anaconda3/envs/my_env/lib/python3.6/site-packages/pandas/core/indexing.py:190: SettingWithCopyWarning: \n",
      "A value is trying to be set on a copy of a slice from a DataFrame\n",
      "\n",
      "See the caveats in the documentation: http://pandas.pydata.org/pandas-docs/stable/indexing.html#indexing-view-versus-copy\n",
      "  self._setitem_with_indexer(indexer, value)\n"
     ]
    }
   ],
   "source": [
    "df['state'].loc[df['state'] == 'successful'] = 1\n",
    "df['state'].loc[df['state'] != 1] = 0"
   ]
  },
  {
   "cell_type": "code",
   "execution_count": 6,
   "metadata": {},
   "outputs": [],
   "source": [
    "#nameの長さを取得\n",
    "df['name_length'] = df['name'].apply(lambda x: len(str(x).replace(' ', ''))).fillna(0)"
   ]
  },
  {
   "cell_type": "code",
   "execution_count": 7,
   "metadata": {},
   "outputs": [],
   "source": [
    "#deadline,launchedを日付に変換するための関数\n",
    "def period_to_date(x_date, format_date):\n",
    "    x_date_format = datetime.datetime.strptime(x_date, format_date)\n",
    "    return x_date_format"
   ]
  },
  {
   "cell_type": "code",
   "execution_count": 8,
   "metadata": {},
   "outputs": [
    {
     "name": "stderr",
     "output_type": "stream",
     "text": [
      "/home/takuya-06261_semantic/anaconda3/envs/my_env/lib/python3.6/site-packages/ipykernel_launcher.py:9: SettingWithCopyWarning: \n",
      "A value is trying to be set on a copy of a slice from a DataFrame\n",
      "\n",
      "See the caveats in the documentation: http://pandas.pydata.org/pandas-docs/stable/indexing.html#indexing-view-versus-copy\n",
      "  if __name__ == '__main__':\n"
     ]
    }
   ],
   "source": [
    "#deadline と　launched からプロジェクト納期への近さ(日数)を計算\n",
    "df['deadline_period'] = df['deadline'].apply(lambda x : period_to_date(x, '%Y-%m-%d')) \\\n",
    "- df['launched'].apply(lambda x : period_to_date(x, '%Y-%m-%d %H:%M:%S'))\n",
    "df['deadline_days'] = df['deadline_period'].apply(lambda x : x.days)\n",
    "\n",
    "#goal に対して納期への日数1日あたりいくら必要かを計算\n",
    "df['goal_per_days'] = df['goal'] / df['deadline_days']\n",
    "df['goal_per_days'] = df['goal_per_days'].fillna(0)\n",
    "df['goal_per_days'] [df['goal_per_days'] == np.inf]= 0"
   ]
  },
  {
   "cell_type": "code",
   "execution_count": 9,
   "metadata": {},
   "outputs": [],
   "source": [
    "#pairplot用の変数を揃える\n",
    "#ここでは更に、goal_per_days(1日あたりの目標金額),name_length(PJ名の長さ),deadline_days(納期に対してどのくらいの近さでリリースしたか)を指標として加える\n",
    "\n",
    "df['goal_log'] = df['goal'].apply(lambda x: np.log(x+1))\n",
    "df['goal_per_days_log'] = df['goal_per_days'].apply(lambda x: np.log(x+1))\n",
    "df['deadline_days_log'] = df['deadline_days'].apply(lambda x: np.log(x+1))\n",
    "df['name_length_log'] = df['name_length'].apply(lambda x: np.log(x+1))"
   ]
  },
  {
   "cell_type": "code",
   "execution_count": 10,
   "metadata": {},
   "outputs": [],
   "source": [
    "#文字列を含む候補のリスト\n",
    "name_first=['1st','First','FIRST','first','1ST']\n",
    "\n",
    "#nameに特定の単語を含むか調べた列を追加\n",
    "df['name_first'] = df['name'].str.contains('|'.join(name_first),na=False)\n",
    "\n",
    "df['name_first'].loc[df['name_first'] == True] = 1\n",
    "df['name_first'].loc[df['name_first'] == False] = 0"
   ]
  },
  {
   "cell_type": "code",
   "execution_count": 11,
   "metadata": {},
   "outputs": [],
   "source": [
    "#文字列を含む候補のリスト\n",
    "name_quick=['quick','Quick','QUICK']\n",
    "\n",
    "#nameに特定の単語を含むか調べた列を追加\n",
    "df['name_quick'] = df['name'].str.contains('|'.join(name_quick),na=False)\n",
    "\n",
    "df['name_quick'].loc[df['name_quick'] == True] = 1\n",
    "df['name_quick'].loc[df['name_quick'] == False] = 0"
   ]
  },
  {
   "cell_type": "code",
   "execution_count": 12,
   "metadata": {},
   "outputs": [],
   "source": [
    "#文字列を含む候補のリスト\n",
    "name_theatre=['theatre','Theatre','THERTRE','theater','Theater','THERTER']\n",
    "\n",
    "#nameに特定の単語を含むか調べた列を追加\n",
    "df['name_theatre'] = df['name'].str.contains('|'.join(name_theatre),na=False)\n",
    "\n",
    "df['name_theatre'].loc[df['name_theatre'] == True] = 1\n",
    "df['name_theatre'].loc[df['name_theatre'] == False] = 0"
   ]
  },
  {
   "cell_type": "code",
   "execution_count": 13,
   "metadata": {},
   "outputs": [],
   "source": [
    "#文字列を含む候補のリスト\n",
    "name_movie=['movie','Movie','movie']\n",
    "\n",
    "#nameに特定の単語を含むか調べた列を追加\n",
    "df['name_movie'] = df['name'].str.contains('|'.join(name_movie),na=False)\n",
    "\n",
    "df['name_movie'].loc[df['name_movie'] == True] = 1\n",
    "df['name_movie'].loc[df['name_movie'] == False] = 0"
   ]
  },
  {
   "cell_type": "code",
   "execution_count": 14,
   "metadata": {},
   "outputs": [],
   "source": [
    "#category,main_category,currencyの値をダミー変数化\n",
    "df = pd.get_dummies(df, columns = ['category','currency'])"
   ]
  },
  {
   "cell_type": "code",
   "execution_count": 15,
   "metadata": {},
   "outputs": [
    {
     "data": {
      "image/png": "[encoded data removed]",
      "text/plain": [
       "<Figure size 432x288 with 2 Axes>"
      ]
     },
     "metadata": {
      "needs_background": "light"
     },
     "output_type": "display_data"
    }
   ],
   "source": [
    "# 相関係数をヒートマップにして可視化\n",
    "import seaborn as sns\n",
    "sns.heatmap(df[[\"goal_log\", \"deadline_days_log\",\"goal_per_days_log\", \"category_Chiptune\", \"currency_USD\",\"name_theatre\",\"name_movie\",\"name_length_log\"]].corr())\n",
    "plt.show()"
   ]
  },
  {
   "cell_type": "markdown",
   "metadata": {},
   "source": [
    "goalとgoal_per_daysに強い正の相関、どちらか一方のみを使うことが推奨される<br>\n",
    "country_USとcurrency_USDはほぼ同じ特徴量を持った列であり、どちらか一方でよい<br>\n",
    "その他はどの説明変数に関してもほぼ相関がない、つまりここで出た7つのうちいずれか5つの説明変数に関しては独立して扱える<br>"
   ]
  },
  {
   "cell_type": "code",
   "execution_count": 16,
   "metadata": {},
   "outputs": [],
   "source": [
    "#goal_per_daysの値を標準化\n",
    "df[\"goal_per_days_standardized\"] = (df[\"goal_per_days\"] - df[\"goal_per_days\"].mean()) / df[\"goal_per_days\"].std(ddof=0)"
   ]
  },
  {
   "cell_type": "code",
   "execution_count": 17,
   "metadata": {},
   "outputs": [],
   "source": [
    "#deadline_daysの値を標準化\n",
    "df[\"deadline_days_standardized\"] = (df[\"deadline_days\"] - df[\"deadline_days\"].mean()) / df[\"deadline_days\"].std(ddof=0)"
   ]
  },
  {
   "cell_type": "code",
   "execution_count": 18,
   "metadata": {},
   "outputs": [],
   "source": [
    "#name_lengthの値を正規化\n",
    "df[\"name_length_normalized\"] = (df[\"name_length\"] - df[\"name_length\"].min()) / (df[\"name_length\"].max() - df[\"name_length\"].min())"
   ]
  },
  {
   "cell_type": "markdown",
   "metadata": {},
   "source": [
    "<h2>分類アルゴリズムに使う説明変数を決定する</h2>"
   ]
  },
  {
   "cell_type": "code",
   "execution_count": 36,
   "metadata": {},
   "outputs": [],
   "source": [
    "y = df[\"state\"].values\n",
    "X = df[[\"goal_per_days_standardized\",\"deadline_days_standardized\",\"name_length_normalized\",\"category_Anthologies\",\"category_Chiptune\",\"name_quick\",\"name_theatre\",\"currency_USD\",\"name_first\",\"name_movie\"]].values"
   ]
  },
  {
   "cell_type": "code",
   "execution_count": 37,
   "metadata": {},
   "outputs": [],
   "source": [
    "#テストデータの分割\n",
    "from sklearn.model_selection import train_test_split\n",
    "X_train, X_test, y_train, y_test = train_test_split(X, y, test_size=0.2)"
   ]
  },
  {
   "cell_type": "code",
   "execution_count": 38,
   "metadata": {},
   "outputs": [
    {
     "name": "stdout",
     "output_type": "stream",
     "text": [
      "w0 = -1.614, w1 = -27.097, w2 = -1.428, w3 = 0.823, w4 = 1.215, w5 = 1.353, w6 = 0.044, w7 = 0.811, w8 = 0.368\n"
     ]
    }
   ],
   "source": [
    "clf = SGDClassifier(loss='log', penalty='none', max_iter=10000, fit_intercept=True, random_state=1234, tol=1e-3)\n",
    "\n",
    "clf.fit(X_train, y_train)\n",
    "\n",
    "# 重みを取得して表示\n",
    "w0 = clf.intercept_[0]\n",
    "w1 = clf.coef_[0, 0]\n",
    "w2 = clf.coef_[0, 1]\n",
    "w3 = clf.coef_[0, 2]\n",
    "w4 = clf.coef_[0, 3]\n",
    "w5 = clf.coef_[0, 4]\n",
    "w6 = clf.coef_[0, 5]\n",
    "w7 = clf.coef_[0, 6]\n",
    "w8 = clf.coef_[0, 7]\n",
    "w9 = clf.coef_[0, 8]\n",
    "print(\"w0 = {:.3f}, w1 = {:.3f}, w2 = {:.3f}, w3 = {:.3f}, w4 = {:.3f}, w5 = {:.3f}, w6 = {:.3f}, w7 = {:.3f}, w8 = {:.3f}\".format(w0, w1, w2, w3, w4, w5, w6, w7, w8))"
   ]
  },
  {
   "cell_type": "code",
   "execution_count": 40,
   "metadata": {},
   "outputs": [
    {
     "name": "stdout",
     "output_type": "stream",
     "text": [
      "対数尤度 = -12.029\n",
      "正答率 = 65.171%\n",
      "適合率（Precision） = 65.817%\n",
      "再現率（Recall） = 95.185%\n",
      "F1値（F1-score） = 77.822%\n"
     ]
    }
   ],
   "source": [
    "from  sklearn.metrics import accuracy_score, precision_recall_fscore_support, confusion_matrix # 回帰問題における性能評価に関する関数\n",
    "\n",
    "# ラベルを予測\n",
    "y_est = clf.predict(X_test)\n",
    "\n",
    "# 対数尤度を表示\n",
    "print('対数尤度 = {:.3f}'.format(- log_loss(y_test, y_est)))\n",
    "\n",
    "# 正答率を表示\n",
    "print('正答率 = {:.3f}%'.format(100 * accuracy_score(y_test, y_est)))\n",
    "\n",
    "\n",
    "# Precision, Recall, F1-scoreを計算\n",
    "precision, recall, f1_score, _ = precision_recall_fscore_support(y_test, y_est)\n",
    "\n",
    "# カテゴリ「state」に関するPrecision, Recall, F1-scoreを表示\n",
    "print('適合率（Precision） = {:.3f}%'.format(100 * precision[0]))\n",
    "print('再現率（Recall） = {:.3f}%'.format(100 * recall[0]))\n",
    "print('F1値（F1-score） = {:.3f}%'.format(100 * f1_score[0]))"
   ]
  },
  {
   "cell_type": "code",
   "execution_count": 41,
   "metadata": {},
   "outputs": [
    {
     "data": {
      "text/html": [
       "<div>\n",
       "<style scoped>\n",
       "    .dataframe tbody tr th:only-of-type {\n",
       "        vertical-align: middle;\n",
       "    }\n",
       "\n",
       "    .dataframe tbody tr th {\n",
       "        vertical-align: top;\n",
       "    }\n",
       "\n",
       "    .dataframe thead th {\n",
       "        text-align: right;\n",
       "    }\n",
       "</style>\n",
       "<table border=\"1\" class=\"dataframe\">\n",
       "  <thead>\n",
       "    <tr style=\"text-align: right;\">\n",
       "      <th></th>\n",
       "      <th>予測 = fail</th>\n",
       "      <th>予測 = successful</th>\n",
       "    </tr>\n",
       "  </thead>\n",
       "  <tbody>\n",
       "    <tr>\n",
       "      <th>正解 = fail</th>\n",
       "      <td>45472</td>\n",
       "      <td>2300</td>\n",
       "    </tr>\n",
       "    <tr>\n",
       "      <th>正解 = successful</th>\n",
       "      <td>23617</td>\n",
       "      <td>3024</td>\n",
       "    </tr>\n",
       "  </tbody>\n",
       "</table>\n",
       "</div>"
      ],
      "text/plain": [
       "                 予測 = fail  予測 = successful\n",
       "正解 = fail            45472             2300\n",
       "正解 = successful      23617             3024"
      ]
     },
     "execution_count": 41,
     "metadata": {},
     "output_type": "execute_result"
    }
   ],
   "source": [
    "# 予測値と正解のクロス集計\n",
    "conf_mat = pd.DataFrame(confusion_matrix(y_test, y_est), \n",
    "                        index=['正解 = fail', '正解 = successful'], \n",
    "                        columns=['予測 = fail', '予測 = successful'])\n",
    "conf_mat"
   ]
  },
  {
   "cell_type": "code",
   "execution_count": 42,
   "metadata": {},
   "outputs": [],
   "source": [
    "#ランダムフォレスト\n",
    "from sklearn.ensemble import RandomForestClassifier\n",
    "\n",
    "#ハイパーパラメータ調整\n",
    "clf_rf = RandomForestClassifier(n_estimators=10,\n",
    "                             max_depth=9,\n",
    "                             criterion=\"gini\",\n",
    "                             min_samples_leaf=2, \n",
    "                             min_samples_split=2,\n",
    "                             random_state=1234)\n",
    "\n",
    "clf_rf.fit(X_train, y_train)\n",
    "\n",
    "#テストデータに対する予測データ作成\n",
    "y_predict = clf_rf.predict(X_test)"
   ]
  },
  {
   "cell_type": "code",
   "execution_count": 43,
   "metadata": {},
   "outputs": [
    {
     "name": "stdout",
     "output_type": "stream",
     "text": [
      "0.6613898109201349\n",
      "対数尤度 = -11.695\n",
      "正答率 = 66.139%\n",
      "適合率（Precision） = 65.817%\n",
      "再現率（Recall） = 95.185%\n",
      "F1値（F1-score） = 77.822%\n"
     ]
    },
    {
     "data": {
      "text/html": [
       "<div>\n",
       "<style scoped>\n",
       "    .dataframe tbody tr th:only-of-type {\n",
       "        vertical-align: middle;\n",
       "    }\n",
       "\n",
       "    .dataframe tbody tr th {\n",
       "        vertical-align: top;\n",
       "    }\n",
       "\n",
       "    .dataframe thead th {\n",
       "        text-align: right;\n",
       "    }\n",
       "</style>\n",
       "<table border=\"1\" class=\"dataframe\">\n",
       "  <thead>\n",
       "    <tr style=\"text-align: right;\">\n",
       "      <th></th>\n",
       "      <th>予測 = fail</th>\n",
       "      <th>予測 = successful</th>\n",
       "    </tr>\n",
       "  </thead>\n",
       "  <tbody>\n",
       "    <tr>\n",
       "      <th>正解 = fail</th>\n",
       "      <td>44301</td>\n",
       "      <td>3471</td>\n",
       "    </tr>\n",
       "    <tr>\n",
       "      <th>正解 = successful</th>\n",
       "      <td>21726</td>\n",
       "      <td>4915</td>\n",
       "    </tr>\n",
       "  </tbody>\n",
       "</table>\n",
       "</div>"
      ],
      "text/plain": [
       "                 予測 = fail  予測 = successful\n",
       "正解 = fail            44301             3471\n",
       "正解 = successful      21726             4915"
      ]
     },
     "execution_count": 43,
     "metadata": {},
     "output_type": "execute_result"
    }
   ],
   "source": [
    "#正解率\n",
    "print(accuracy_score(y_test, y_predict))\n",
    "\n",
    "# 対数尤度を表示\n",
    "print('対数尤度 = {:.3f}'.format(- log_loss(y_test, y_predict)))\n",
    "\n",
    "# 正答率を表示\n",
    "print('正答率 = {:.3f}%'.format(100 * accuracy_score(y_test, y_predict)))\n",
    "\n",
    "# Precision, Recall, F1-scoreを計算\n",
    "precision, recall, f1_score, _ = precision_recall_fscore_support(y_test, y_est)\n",
    "\n",
    "# カテゴリ「state」に関するPrecision, Recall, F1-scoreを表示\n",
    "print('適合率（Precision） = {:.3f}%'.format(100 * precision[0]))\n",
    "print('再現率（Recall） = {:.3f}%'.format(100 * recall[0]))\n",
    "print('F1値（F1-score） = {:.3f}%'.format(100 * f1_score[0]))\n",
    "\n",
    "# 予測値と正解のクロス集計\n",
    "conf_mat = pd.DataFrame(confusion_matrix(y_test, y_predict), \n",
    "                        index=['正解 = fail', '正解 = successful'], \n",
    "                        columns=['予測 = fail', '予測 = successful'])\n",
    "conf_mat"
   ]
  },
  {
   "cell_type": "code",
   "execution_count": 44,
   "metadata": {},
   "outputs": [
    {
     "name": "stdout",
     "output_type": "stream",
     "text": [
      "1   goal_per_days_standardized   0.5493271938780224\n",
      "2   deadline_days_standardized   0.32049199046679167\n",
      "3   name_length_normalized   0.06518252174161294\n",
      "4   currency_USD   0.041258773983556055\n",
      "5   name_theatre   0.00934692808895553\n",
      "6   category_Anthologies   0.007923900072198307\n",
      "7   name_first   0.0042799933318004016\n",
      "8   name_movie   0.0012059044010463145\n",
      "9   category_Chiptune   0.0005870728344701088\n",
      "10   name_quick   0.00039572120154636936\n"
     ]
    },
    {
     "name": "stderr",
     "output_type": "stream",
     "text": [
      "/home/takuya-06261_semantic/anaconda3/envs/my_env/lib/python3.6/site-packages/ipykernel_launcher.py:10: DeprecationWarning: \n",
      ".ix is deprecated. Please use\n",
      ".loc for label based indexing or\n",
      ".iloc for positional indexing\n",
      "\n",
      "See the documentation here:\n",
      "http://pandas.pydata.org/pandas-docs/stable/indexing.html#ix-indexer-is-deprecated\n",
      "  # Remove the CWD from sys.path while we load stuff.\n"
     ]
    },
    {
     "data": {
      "image/png": "[encoded data removed]",
      "text/plain": [
       "<Figure size 432x288 with 1 Axes>"
      ]
     },
     "metadata": {
      "needs_background": "light"
     },
     "output_type": "display_data"
    }
   ],
   "source": [
    "# 説明変数の重要度を出力する\n",
    "# scikit-learnで算出される重要度は、ある説明変数による不純度の減少量合計である。\n",
    "#特徴量の重要度\n",
    "feature = clf_rf.feature_importances_\n",
    "\n",
    "#特徴量の重要度を上から順に出力する\n",
    "f = pd.DataFrame({'number': range(0, len(feature)),\n",
    "             'feature': feature[:]})\n",
    "f2 = f.sort_values('feature',ascending=False)\n",
    "f3 = f2.ix[:, 'number']\n",
    "\n",
    "#特徴量の名前\n",
    "label = df[[\"goal_per_days_standardized\",\"deadline_days_standardized\",\"name_length_normalized\",\"category_Anthologies\",\"category_Chiptune\",\"name_quick\",\"name_theatre\",\"currency_USD\",\"name_first\",\"name_movie\"]].columns[0:]\n",
    "\n",
    "#特徴量の重要度順（降順）\n",
    "indices = np.argsort(feature)[::-1]\n",
    "\n",
    "for i in range(len(feature)):\n",
    "    print (str(i + 1) + \"   \" + str(label[indices[i]]) + \"   \" + str(feature[indices[i]]))\n",
    "\n",
    "plt.title('Feature Importance')\n",
    "plt.bar(range(len(feature)),feature[indices], color='lightblue', align='center')\n",
    "plt.xticks(range(len(feature)), label[indices], rotation=90)\n",
    "plt.xlim([-1, len(feature)])\n",
    "plt.tight_layout()\n",
    "plt.show()"
   ]
  },
  {
   "cell_type": "markdown",
   "metadata": {},
   "source": [
    "goal_per_days,deadline_daysが重要だと評価されている"
   ]
  },
  {
   "cell_type": "code",
   "execution_count": 45,
   "metadata": {},
   "outputs": [],
   "source": [
    "#アダブースト\n",
    "from sklearn.ensemble import AdaBoostClassifier\n",
    "from sklearn.tree import DecisionTreeClassifier\n",
    "from sklearn.metrics import classification_report\n",
    "\n",
    "clf_ad = AdaBoostClassifier(DecisionTreeClassifier(max_depth=3,\n",
    "                                                min_samples_leaf=2,\n",
    "                                                min_samples_split=2, \n",
    "                                                random_state=1234,\n",
    "                                                criterion=\"gini\"))\n",
    "clf_ad.fit(X_train, y_train)\n",
    "\n",
    "#テストデータに対する予測データ作成\n",
    "y_predict = clf_ad.predict(X_test)"
   ]
  },
  {
   "cell_type": "code",
   "execution_count": 46,
   "metadata": {},
   "outputs": [
    {
     "name": "stdout",
     "output_type": "stream",
     "text": [
      "0.6697888809750985\n",
      "対数尤度 = -11.405\n",
      "正答率 = 66.979%\n",
      "適合率（Precision） = 65.817%\n",
      "再現率（Recall） = 95.185%\n",
      "F1値（F1-score） = 77.822%\n"
     ]
    },
    {
     "data": {
      "text/html": [
       "<div>\n",
       "<style scoped>\n",
       "    .dataframe tbody tr th:only-of-type {\n",
       "        vertical-align: middle;\n",
       "    }\n",
       "\n",
       "    .dataframe tbody tr th {\n",
       "        vertical-align: top;\n",
       "    }\n",
       "\n",
       "    .dataframe thead th {\n",
       "        text-align: right;\n",
       "    }\n",
       "</style>\n",
       "<table border=\"1\" class=\"dataframe\">\n",
       "  <thead>\n",
       "    <tr style=\"text-align: right;\">\n",
       "      <th></th>\n",
       "      <th>予測 = fail</th>\n",
       "      <th>予測 = successful</th>\n",
       "    </tr>\n",
       "  </thead>\n",
       "  <tbody>\n",
       "    <tr>\n",
       "      <th>正解 = fail</th>\n",
       "      <td>41861</td>\n",
       "      <td>5911</td>\n",
       "    </tr>\n",
       "    <tr>\n",
       "      <th>正解 = successful</th>\n",
       "      <td>18661</td>\n",
       "      <td>7980</td>\n",
       "    </tr>\n",
       "  </tbody>\n",
       "</table>\n",
       "</div>"
      ],
      "text/plain": [
       "                 予測 = fail  予測 = successful\n",
       "正解 = fail            41861             5911\n",
       "正解 = successful      18661             7980"
      ]
     },
     "execution_count": 46,
     "metadata": {},
     "output_type": "execute_result"
    }
   ],
   "source": [
    "#正解率\n",
    "print(accuracy_score(y_test, y_predict))\n",
    "\n",
    "# 対数尤度を表示\n",
    "print('対数尤度 = {:.3f}'.format(- log_loss(y_test, y_predict)))\n",
    "\n",
    "# 正答率を表示\n",
    "print('正答率 = {:.3f}%'.format(100 * accuracy_score(y_test, y_predict)))\n",
    "\n",
    "# Precision, Recall, F1-scoreを計算\n",
    "precision, recall, f1_score, _ = precision_recall_fscore_support(y_test, y_est)\n",
    "\n",
    "# カテゴリ「state」に関するPrecision, Recall, F1-scoreを表示\n",
    "print('適合率（Precision） = {:.3f}%'.format(100 * precision[0]))\n",
    "print('再現率（Recall） = {:.3f}%'.format(100 * recall[0]))\n",
    "print('F1値（F1-score） = {:.3f}%'.format(100 * f1_score[0]))\n",
    "\n",
    "# 予測値と正解のクロス集計\n",
    "conf_mat = pd.DataFrame(confusion_matrix(y_test, y_predict), \n",
    "                        index=['正解 = fail', '正解 = successful'], \n",
    "                        columns=['予測 = fail', '予測 = successful'])\n",
    "conf_mat"
   ]
  },
  {
   "cell_type": "code",
   "execution_count": 47,
   "metadata": {},
   "outputs": [
    {
     "name": "stdout",
     "output_type": "stream",
     "text": [
      "[0.45446725 0.28406831 0.19286995 0.00694734 0.00494033 0.00595559\n",
      " 0.00850881 0.02598685 0.00720664 0.00904893]\n"
     ]
    },
    {
     "data": {
      "image/png": "[encoded data removed]",
      "text/plain": [
       "<Figure size 720x720 with 1 Axes>"
      ]
     },
     "metadata": {
      "needs_background": "light"
     },
     "output_type": "display_data"
    }
   ],
   "source": [
    "print(clf_ad.feature_importances_)\n",
    "\n",
    "feature_name=df[[\"goal_per_days_standardized\",\"deadline_days_standardized\",\"name_length_normalized\",\"category_Anthologies\",\"category_Chiptune\",\"name_quick\",\"name_theatre\",\"currency_USD\",\"name_first\",\"name_movie\"]].columns[0:]\n",
    "feature_name\n",
    "\n",
    "# 説明変数の重要度を棒グラフに出力する。\n",
    "pd.DataFrame(clf_ad.feature_importances_, feature_name).plot.barh(figsize=(10,10))\n",
    "plt.ylabel(\"Importance\")\n",
    "plt.xlabel(\"Features\")\n",
    "plt.show()"
   ]
  },
  {
   "cell_type": "code",
   "execution_count": 30,
   "metadata": {},
   "outputs": [],
   "source": [
    "y = df[\"state\"].values\n",
    "X = df[[\"goal_per_days_standardized\",\"deadline_days_standardized\",\"name_length_normalized\",\"category_Anthologies\",\"category_Chiptune\",\"name_quick\",\"name_theatre\",\"currency_USD\",\"name_first\",\"name_movie\", \\\n",
    "       \"category_Residencies\",\"category_Dance\",\"category_Letterpress\",\"category_Literary Spaces\",\"category_Indie Rock\"]].values"
   ]
  },
  {
   "cell_type": "code",
   "execution_count": 31,
   "metadata": {},
   "outputs": [],
   "source": [
    "#テストデータの分割\n",
    "from sklearn.model_selection import train_test_split\n",
    "X_train, X_test, y_train, y_test = train_test_split(X, y, test_size=0.2)"
   ]
  },
  {
   "cell_type": "code",
   "execution_count": 32,
   "metadata": {},
   "outputs": [
    {
     "ename": "KeyboardInterrupt",
     "evalue": "",
     "output_type": "error",
     "traceback": [
      "\u001b[0;31m---------------------------------------------------------------------------\u001b[0m",
      "\u001b[0;31mKeyboardInterrupt\u001b[0m                         Traceback (most recent call last)",
      "\u001b[0;32m<ipython-input-32-f2b46328c7bc>\u001b[0m in \u001b[0;36m<module>\u001b[0;34m\u001b[0m\n\u001b[1;32m     16\u001b[0m \u001b[0mrfecv\u001b[0m \u001b[0;34m=\u001b[0m \u001b[0mRFECV\u001b[0m\u001b[0;34m(\u001b[0m\u001b[0mclf_ad\u001b[0m\u001b[0;34m,\u001b[0m \u001b[0mcv\u001b[0m\u001b[0;34m=\u001b[0m\u001b[0;36m10\u001b[0m\u001b[0;34m,\u001b[0m \u001b[0mscoring\u001b[0m\u001b[0;34m=\u001b[0m\u001b[0;34m'accuracy'\u001b[0m\u001b[0;34m)\u001b[0m\u001b[0;34m\u001b[0m\u001b[0;34m\u001b[0m\u001b[0m\n\u001b[1;32m     17\u001b[0m \u001b[0;34m\u001b[0m\u001b[0m\n\u001b[0;32m---> 18\u001b[0;31m \u001b[0mrfecv\u001b[0m\u001b[0;34m.\u001b[0m\u001b[0mfit\u001b[0m\u001b[0;34m(\u001b[0m\u001b[0mX_train\u001b[0m\u001b[0;34m,\u001b[0m \u001b[0my_train\u001b[0m\u001b[0;34m)\u001b[0m\u001b[0;34m\u001b[0m\u001b[0;34m\u001b[0m\u001b[0m\n\u001b[0m",
      "\u001b[0;32m~/anaconda3/envs/my_env/lib/python3.6/site-packages/sklearn/feature_selection/rfe.py\u001b[0m in \u001b[0;36mfit\u001b[0;34m(self, X, y, groups)\u001b[0m\n\u001b[1;32m    512\u001b[0m         scores = parallel(\n\u001b[1;32m    513\u001b[0m             \u001b[0mfunc\u001b[0m\u001b[0;34m(\u001b[0m\u001b[0mrfe\u001b[0m\u001b[0;34m,\u001b[0m \u001b[0mself\u001b[0m\u001b[0;34m.\u001b[0m\u001b[0mestimator\u001b[0m\u001b[0;34m,\u001b[0m \u001b[0mX\u001b[0m\u001b[0;34m,\u001b[0m \u001b[0my\u001b[0m\u001b[0;34m,\u001b[0m \u001b[0mtrain\u001b[0m\u001b[0;34m,\u001b[0m \u001b[0mtest\u001b[0m\u001b[0;34m,\u001b[0m \u001b[0mscorer\u001b[0m\u001b[0;34m)\u001b[0m\u001b[0;34m\u001b[0m\u001b[0;34m\u001b[0m\u001b[0m\n\u001b[0;32m--> 514\u001b[0;31m             for train, test in cv.split(X, y, groups))\n\u001b[0m\u001b[1;32m    515\u001b[0m \u001b[0;34m\u001b[0m\u001b[0m\n\u001b[1;32m    516\u001b[0m         \u001b[0mscores\u001b[0m \u001b[0;34m=\u001b[0m \u001b[0mnp\u001b[0m\u001b[0;34m.\u001b[0m\u001b[0msum\u001b[0m\u001b[0;34m(\u001b[0m\u001b[0mscores\u001b[0m\u001b[0;34m,\u001b[0m \u001b[0maxis\u001b[0m\u001b[0;34m=\u001b[0m\u001b[0;36m0\u001b[0m\u001b[0;34m)\u001b[0m\u001b[0;34m\u001b[0m\u001b[0;34m\u001b[0m\u001b[0m\n",
      "\u001b[0;32m~/anaconda3/envs/my_env/lib/python3.6/site-packages/sklearn/feature_selection/rfe.py\u001b[0m in \u001b[0;36m<genexpr>\u001b[0;34m(.0)\u001b[0m\n\u001b[1;32m    512\u001b[0m         scores = parallel(\n\u001b[1;32m    513\u001b[0m             \u001b[0mfunc\u001b[0m\u001b[0;34m(\u001b[0m\u001b[0mrfe\u001b[0m\u001b[0;34m,\u001b[0m \u001b[0mself\u001b[0m\u001b[0;34m.\u001b[0m\u001b[0mestimator\u001b[0m\u001b[0;34m,\u001b[0m \u001b[0mX\u001b[0m\u001b[0;34m,\u001b[0m \u001b[0my\u001b[0m\u001b[0;34m,\u001b[0m \u001b[0mtrain\u001b[0m\u001b[0;34m,\u001b[0m \u001b[0mtest\u001b[0m\u001b[0;34m,\u001b[0m \u001b[0mscorer\u001b[0m\u001b[0;34m)\u001b[0m\u001b[0;34m\u001b[0m\u001b[0;34m\u001b[0m\u001b[0m\n\u001b[0;32m--> 514\u001b[0;31m             for train, test in cv.split(X, y, groups))\n\u001b[0m\u001b[1;32m    515\u001b[0m \u001b[0;34m\u001b[0m\u001b[0m\n\u001b[1;32m    516\u001b[0m         \u001b[0mscores\u001b[0m \u001b[0;34m=\u001b[0m \u001b[0mnp\u001b[0m\u001b[0;34m.\u001b[0m\u001b[0msum\u001b[0m\u001b[0;34m(\u001b[0m\u001b[0mscores\u001b[0m\u001b[0;34m,\u001b[0m \u001b[0maxis\u001b[0m\u001b[0;34m=\u001b[0m\u001b[0;36m0\u001b[0m\u001b[0;34m)\u001b[0m\u001b[0;34m\u001b[0m\u001b[0;34m\u001b[0m\u001b[0m\n",
      "\u001b[0;32m~/anaconda3/envs/my_env/lib/python3.6/site-packages/sklearn/feature_selection/rfe.py\u001b[0m in \u001b[0;36m_rfe_single_fit\u001b[0;34m(rfe, estimator, X, y, train, test, scorer)\u001b[0m\n\u001b[1;32m     30\u001b[0m     \u001b[0mX_test\u001b[0m\u001b[0;34m,\u001b[0m \u001b[0my_test\u001b[0m \u001b[0;34m=\u001b[0m \u001b[0m_safe_split\u001b[0m\u001b[0;34m(\u001b[0m\u001b[0mestimator\u001b[0m\u001b[0;34m,\u001b[0m \u001b[0mX\u001b[0m\u001b[0;34m,\u001b[0m \u001b[0my\u001b[0m\u001b[0;34m,\u001b[0m \u001b[0mtest\u001b[0m\u001b[0;34m,\u001b[0m \u001b[0mtrain\u001b[0m\u001b[0;34m)\u001b[0m\u001b[0;34m\u001b[0m\u001b[0;34m\u001b[0m\u001b[0m\n\u001b[1;32m     31\u001b[0m     return rfe._fit(\n\u001b[0;32m---> 32\u001b[0;31m         \u001b[0mX_train\u001b[0m\u001b[0;34m,\u001b[0m \u001b[0my_train\u001b[0m\u001b[0;34m,\u001b[0m \u001b[0;32mlambda\u001b[0m \u001b[0mestimator\u001b[0m\u001b[0;34m,\u001b[0m \u001b[0mfeatures\u001b[0m\u001b[0;34m:\u001b[0m\u001b[0;34m\u001b[0m\u001b[0;34m\u001b[0m\u001b[0m\n\u001b[0m\u001b[1;32m     33\u001b[0m         _score(estimator, X_test[:, features], y_test, scorer)).scores_\n\u001b[1;32m     34\u001b[0m \u001b[0;34m\u001b[0m\u001b[0m\n",
      "\u001b[0;32m~/anaconda3/envs/my_env/lib/python3.6/site-packages/sklearn/feature_selection/rfe.py\u001b[0m in \u001b[0;36m_fit\u001b[0;34m(self, X, y, step_score)\u001b[0m\n\u001b[1;32m    177\u001b[0m                 \u001b[0mprint\u001b[0m\u001b[0;34m(\u001b[0m\u001b[0;34m\"Fitting estimator with %d features.\"\u001b[0m \u001b[0;34m%\u001b[0m \u001b[0mnp\u001b[0m\u001b[0;34m.\u001b[0m\u001b[0msum\u001b[0m\u001b[0;34m(\u001b[0m\u001b[0msupport_\u001b[0m\u001b[0;34m)\u001b[0m\u001b[0;34m)\u001b[0m\u001b[0;34m\u001b[0m\u001b[0;34m\u001b[0m\u001b[0m\n\u001b[1;32m    178\u001b[0m \u001b[0;34m\u001b[0m\u001b[0m\n\u001b[0;32m--> 179\u001b[0;31m             \u001b[0mestimator\u001b[0m\u001b[0;34m.\u001b[0m\u001b[0mfit\u001b[0m\u001b[0;34m(\u001b[0m\u001b[0mX\u001b[0m\u001b[0;34m[\u001b[0m\u001b[0;34m:\u001b[0m\u001b[0;34m,\u001b[0m \u001b[0mfeatures\u001b[0m\u001b[0;34m]\u001b[0m\u001b[0;34m,\u001b[0m \u001b[0my\u001b[0m\u001b[0;34m)\u001b[0m\u001b[0;34m\u001b[0m\u001b[0;34m\u001b[0m\u001b[0m\n\u001b[0m\u001b[1;32m    180\u001b[0m \u001b[0;34m\u001b[0m\u001b[0m\n\u001b[1;32m    181\u001b[0m             \u001b[0;31m# Get coefs\u001b[0m\u001b[0;34m\u001b[0m\u001b[0;34m\u001b[0m\u001b[0;34m\u001b[0m\u001b[0m\n",
      "\u001b[0;32m~/anaconda3/envs/my_env/lib/python3.6/site-packages/sklearn/ensemble/weight_boosting.py\u001b[0m in \u001b[0;36mfit\u001b[0;34m(self, X, y, sample_weight)\u001b[0m\n\u001b[1;32m    410\u001b[0m \u001b[0;34m\u001b[0m\u001b[0m\n\u001b[1;32m    411\u001b[0m         \u001b[0;31m# Fit\u001b[0m\u001b[0;34m\u001b[0m\u001b[0;34m\u001b[0m\u001b[0;34m\u001b[0m\u001b[0m\n\u001b[0;32m--> 412\u001b[0;31m         \u001b[0;32mreturn\u001b[0m \u001b[0msuper\u001b[0m\u001b[0;34m(\u001b[0m\u001b[0mAdaBoostClassifier\u001b[0m\u001b[0;34m,\u001b[0m \u001b[0mself\u001b[0m\u001b[0;34m)\u001b[0m\u001b[0;34m.\u001b[0m\u001b[0mfit\u001b[0m\u001b[0;34m(\u001b[0m\u001b[0mX\u001b[0m\u001b[0;34m,\u001b[0m \u001b[0my\u001b[0m\u001b[0;34m,\u001b[0m \u001b[0msample_weight\u001b[0m\u001b[0;34m)\u001b[0m\u001b[0;34m\u001b[0m\u001b[0;34m\u001b[0m\u001b[0m\n\u001b[0m\u001b[1;32m    413\u001b[0m \u001b[0;34m\u001b[0m\u001b[0m\n\u001b[1;32m    414\u001b[0m     \u001b[0;32mdef\u001b[0m \u001b[0m_validate_estimator\u001b[0m\u001b[0;34m(\u001b[0m\u001b[0mself\u001b[0m\u001b[0;34m)\u001b[0m\u001b[0;34m:\u001b[0m\u001b[0;34m\u001b[0m\u001b[0;34m\u001b[0m\u001b[0m\n",
      "\u001b[0;32m~/anaconda3/envs/my_env/lib/python3.6/site-packages/sklearn/ensemble/weight_boosting.py\u001b[0m in \u001b[0;36mfit\u001b[0;34m(self, X, y, sample_weight)\u001b[0m\n\u001b[1;32m    141\u001b[0m                 \u001b[0mX\u001b[0m\u001b[0;34m,\u001b[0m \u001b[0my\u001b[0m\u001b[0;34m,\u001b[0m\u001b[0;34m\u001b[0m\u001b[0;34m\u001b[0m\u001b[0m\n\u001b[1;32m    142\u001b[0m                 \u001b[0msample_weight\u001b[0m\u001b[0;34m,\u001b[0m\u001b[0;34m\u001b[0m\u001b[0;34m\u001b[0m\u001b[0m\n\u001b[0;32m--> 143\u001b[0;31m                 random_state)\n\u001b[0m\u001b[1;32m    144\u001b[0m \u001b[0;34m\u001b[0m\u001b[0m\n\u001b[1;32m    145\u001b[0m             \u001b[0;31m# Early termination\u001b[0m\u001b[0;34m\u001b[0m\u001b[0;34m\u001b[0m\u001b[0;34m\u001b[0m\u001b[0m\n",
      "\u001b[0;32m~/anaconda3/envs/my_env/lib/python3.6/site-packages/sklearn/ensemble/weight_boosting.py\u001b[0m in \u001b[0;36m_boost\u001b[0;34m(self, iboost, X, y, sample_weight, random_state)\u001b[0m\n\u001b[1;32m    470\u001b[0m         \"\"\"\n\u001b[1;32m    471\u001b[0m         \u001b[0;32mif\u001b[0m \u001b[0mself\u001b[0m\u001b[0;34m.\u001b[0m\u001b[0malgorithm\u001b[0m \u001b[0;34m==\u001b[0m \u001b[0;34m'SAMME.R'\u001b[0m\u001b[0;34m:\u001b[0m\u001b[0;34m\u001b[0m\u001b[0;34m\u001b[0m\u001b[0m\n\u001b[0;32m--> 472\u001b[0;31m             \u001b[0;32mreturn\u001b[0m \u001b[0mself\u001b[0m\u001b[0;34m.\u001b[0m\u001b[0m_boost_real\u001b[0m\u001b[0;34m(\u001b[0m\u001b[0miboost\u001b[0m\u001b[0;34m,\u001b[0m \u001b[0mX\u001b[0m\u001b[0;34m,\u001b[0m \u001b[0my\u001b[0m\u001b[0;34m,\u001b[0m \u001b[0msample_weight\u001b[0m\u001b[0;34m,\u001b[0m \u001b[0mrandom_state\u001b[0m\u001b[0;34m)\u001b[0m\u001b[0;34m\u001b[0m\u001b[0;34m\u001b[0m\u001b[0m\n\u001b[0m\u001b[1;32m    473\u001b[0m \u001b[0;34m\u001b[0m\u001b[0m\n\u001b[1;32m    474\u001b[0m         \u001b[0;32melse\u001b[0m\u001b[0;34m:\u001b[0m  \u001b[0;31m# elif self.algorithm == \"SAMME\":\u001b[0m\u001b[0;34m\u001b[0m\u001b[0;34m\u001b[0m\u001b[0m\n",
      "\u001b[0;32m~/anaconda3/envs/my_env/lib/python3.6/site-packages/sklearn/ensemble/weight_boosting.py\u001b[0m in \u001b[0;36m_boost_real\u001b[0;34m(self, iboost, X, y, sample_weight, random_state)\u001b[0m\n\u001b[1;32m    480\u001b[0m         \u001b[0mestimator\u001b[0m \u001b[0;34m=\u001b[0m \u001b[0mself\u001b[0m\u001b[0;34m.\u001b[0m\u001b[0m_make_estimator\u001b[0m\u001b[0;34m(\u001b[0m\u001b[0mrandom_state\u001b[0m\u001b[0;34m=\u001b[0m\u001b[0mrandom_state\u001b[0m\u001b[0;34m)\u001b[0m\u001b[0;34m\u001b[0m\u001b[0;34m\u001b[0m\u001b[0m\n\u001b[1;32m    481\u001b[0m \u001b[0;34m\u001b[0m\u001b[0m\n\u001b[0;32m--> 482\u001b[0;31m         \u001b[0mestimator\u001b[0m\u001b[0;34m.\u001b[0m\u001b[0mfit\u001b[0m\u001b[0;34m(\u001b[0m\u001b[0mX\u001b[0m\u001b[0;34m,\u001b[0m \u001b[0my\u001b[0m\u001b[0;34m,\u001b[0m \u001b[0msample_weight\u001b[0m\u001b[0;34m=\u001b[0m\u001b[0msample_weight\u001b[0m\u001b[0;34m)\u001b[0m\u001b[0;34m\u001b[0m\u001b[0;34m\u001b[0m\u001b[0m\n\u001b[0m\u001b[1;32m    483\u001b[0m \u001b[0;34m\u001b[0m\u001b[0m\n\u001b[1;32m    484\u001b[0m         \u001b[0my_predict_proba\u001b[0m \u001b[0;34m=\u001b[0m \u001b[0mestimator\u001b[0m\u001b[0;34m.\u001b[0m\u001b[0mpredict_proba\u001b[0m\u001b[0;34m(\u001b[0m\u001b[0mX\u001b[0m\u001b[0;34m)\u001b[0m\u001b[0;34m\u001b[0m\u001b[0;34m\u001b[0m\u001b[0m\n",
      "\u001b[0;32m~/anaconda3/envs/my_env/lib/python3.6/site-packages/sklearn/tree/tree.py\u001b[0m in \u001b[0;36mfit\u001b[0;34m(self, X, y, sample_weight, check_input, X_idx_sorted)\u001b[0m\n\u001b[1;32m    799\u001b[0m             \u001b[0msample_weight\u001b[0m\u001b[0;34m=\u001b[0m\u001b[0msample_weight\u001b[0m\u001b[0;34m,\u001b[0m\u001b[0;34m\u001b[0m\u001b[0;34m\u001b[0m\u001b[0m\n\u001b[1;32m    800\u001b[0m             \u001b[0mcheck_input\u001b[0m\u001b[0;34m=\u001b[0m\u001b[0mcheck_input\u001b[0m\u001b[0;34m,\u001b[0m\u001b[0;34m\u001b[0m\u001b[0;34m\u001b[0m\u001b[0m\n\u001b[0;32m--> 801\u001b[0;31m             X_idx_sorted=X_idx_sorted)\n\u001b[0m\u001b[1;32m    802\u001b[0m         \u001b[0;32mreturn\u001b[0m \u001b[0mself\u001b[0m\u001b[0;34m\u001b[0m\u001b[0;34m\u001b[0m\u001b[0m\n\u001b[1;32m    803\u001b[0m \u001b[0;34m\u001b[0m\u001b[0m\n",
      "\u001b[0;32m~/anaconda3/envs/my_env/lib/python3.6/site-packages/sklearn/tree/tree.py\u001b[0m in \u001b[0;36mfit\u001b[0;34m(self, X, y, sample_weight, check_input, X_idx_sorted)\u001b[0m\n\u001b[1;32m    364\u001b[0m                                            min_impurity_split)\n\u001b[1;32m    365\u001b[0m \u001b[0;34m\u001b[0m\u001b[0m\n\u001b[0;32m--> 366\u001b[0;31m         \u001b[0mbuilder\u001b[0m\u001b[0;34m.\u001b[0m\u001b[0mbuild\u001b[0m\u001b[0;34m(\u001b[0m\u001b[0mself\u001b[0m\u001b[0;34m.\u001b[0m\u001b[0mtree_\u001b[0m\u001b[0;34m,\u001b[0m \u001b[0mX\u001b[0m\u001b[0;34m,\u001b[0m \u001b[0my\u001b[0m\u001b[0;34m,\u001b[0m \u001b[0msample_weight\u001b[0m\u001b[0;34m,\u001b[0m \u001b[0mX_idx_sorted\u001b[0m\u001b[0;34m)\u001b[0m\u001b[0;34m\u001b[0m\u001b[0;34m\u001b[0m\u001b[0m\n\u001b[0m\u001b[1;32m    367\u001b[0m \u001b[0;34m\u001b[0m\u001b[0m\n\u001b[1;32m    368\u001b[0m         \u001b[0;32mif\u001b[0m \u001b[0mself\u001b[0m\u001b[0;34m.\u001b[0m\u001b[0mn_outputs_\u001b[0m \u001b[0;34m==\u001b[0m \u001b[0;36m1\u001b[0m\u001b[0;34m:\u001b[0m\u001b[0;34m\u001b[0m\u001b[0;34m\u001b[0m\u001b[0m\n",
      "\u001b[0;31mKeyboardInterrupt\u001b[0m: "
     ]
    }
   ],
   "source": [
    "#アダブースト\n",
    "from sklearn.ensemble import AdaBoostClassifier\n",
    "from sklearn.tree import DecisionTreeClassifier\n",
    "from sklearn.metrics import classification_report\n",
    "from sklearn.feature_selection import RFECV\n",
    "\n",
    "clf_ad = AdaBoostClassifier(DecisionTreeClassifier(max_depth=3,\n",
    "                                                min_samples_leaf=2,\n",
    "                                                min_samples_split=2, \n",
    "                                                random_state=1234,\n",
    "                                                criterion=\"gini\"))\n",
    "\n",
    "# RFECVは交差検証によってステップワイズ法による特徴選択を行う\n",
    "# cvにはFold（=グループ）の数，scoringには評価指標を指定する\n",
    "# 今回は回帰なのでneg_mean_absolute_errorを評価指標に指定（分類ならaccuracy）\n",
    "rfecv = RFECV(clf_ad, cv=10, scoring='accuracy')\n",
    "\n",
    "rfecv.fit(X_train, y_train)"
   ]
  },
  {
   "cell_type": "code",
   "execution_count": null,
   "metadata": {},
   "outputs": [],
   "source": [
    "pd.to_pickle(rfecv,'../1_data/rfecv.model')"
   ]
  },
  {
   "cell_type": "code",
   "execution_count": null,
   "metadata": {},
   "outputs": [],
   "source": [
    "#テストデータに対する予測データ作成\n",
    "y_predict = rfecv.predict(X_test)"
   ]
  },
  {
   "cell_type": "code",
   "execution_count": null,
   "metadata": {},
   "outputs": [],
   "source": [
    "#正解率\n",
    "print(accuracy_score(y_test, y_predict))\n",
    "\n",
    "# 対数尤度を表示\n",
    "print('対数尤度 = {:.3f}'.format(- log_loss(y_test, y_predict)))\n",
    "\n",
    "# 正答率を表示\n",
    "print('正答率 = {:.3f}%'.format(100 * accuracy_score(y_test, y_predict)))\n",
    "\n",
    "# Precision, Recall, F1-scoreを計算\n",
    "precision, recall, f1_score, _ = precision_recall_fscore_support(y_test, y_est)\n",
    "\n",
    "# カテゴリ「state」に関するPrecision, Recall, F1-scoreを表示\n",
    "print('適合率（Precision） = {:.3f}%'.format(100 * precision[0]))\n",
    "print('再現率（Recall） = {:.3f}%'.format(100 * recall[0]))\n",
    "print('F1値（F1-score） = {:.3f}%'.format(100 * f1_score[0]))\n",
    "\n",
    "# 予測値と正解のクロス集計\n",
    "conf_mat = pd.DataFrame(confusion_matrix(y_test, y_predict), \n",
    "                        index=['正解 = fail', '正解 = successful'], \n",
    "                        columns=['予測 = fail', '予測 = successful'])\n",
    "conf_mat"
   ]
  },
  {
   "cell_type": "code",
   "execution_count": null,
   "metadata": {},
   "outputs": [],
   "source": [
    "print(clf_ad.feature_importances_)\n",
    "\n",
    "feature_name=df[[\"goal_per_days_standardized\",\"deadline_days_standardized\",\"name_length_normalized\",\"category_Anthologies\",\"category_Chiptune\",\"name_quick\",\"name_theatre\",\"currency_USD\",\"name_first\",\"name_movie\"]].columns[0:]\n",
    "feature_name\n",
    "\n",
    "# 説明変数の重要度を棒グラフに出力する。\n",
    "pd.DataFrame(clf_ad.feature_importances_, feature_name).plot.barh(figsize=(10,10))\n",
    "plt.ylabel(\"Importance\")\n",
    "plt.xlabel(\"Features\")\n",
    "plt.show()"
   ]
  },
  {
   "cell_type": "code",
   "execution_count": 48,
   "metadata": {},
   "outputs": [
    {
     "name": "stderr",
     "output_type": "stream",
     "text": [
      "/home/takuya-06261_semantic/anaconda3/envs/my_env/lib/python3.6/site-packages/sklearn/model_selection/_split.py:2053: FutureWarning: You should specify a value for 'cv' instead of relying on the default value. The default value will change from 3 to 5 in version 0.22.\n",
      "  warnings.warn(CV_WARNING, FutureWarning)\n",
      "[Parallel(n_jobs=1)]: Using backend SequentialBackend with 1 concurrent workers.\n"
     ]
    },
    {
     "name": "stdout",
     "output_type": "stream",
     "text": [
      "Fitting 3 folds for each of 9 candidates, totalling 27 fits\n"
     ]
    },
    {
     "name": "stderr",
     "output_type": "stream",
     "text": [
      "[Parallel(n_jobs=1)]: Done  27 out of  27 | elapsed:  4.2min finished\n"
     ]
    },
    {
     "name": "stdout",
     "output_type": "stream",
     "text": [
      "{'max_depth': 4, 'n_estimators': 200} 0.6679007824652528\n",
      "[[42091  5681]\n",
      " [18896  7745]]\n",
      "              precision    recall  f1-score   support\n",
      "\n",
      "           0       0.69      0.88      0.77     47772\n",
      "           1       0.58      0.29      0.39     26641\n",
      "\n",
      "   micro avg       0.67      0.67      0.67     74413\n",
      "   macro avg       0.63      0.59      0.58     74413\n",
      "weighted avg       0.65      0.67      0.64     74413\n",
      "\n"
     ]
    }
   ],
   "source": [
    "#XGBoost\n",
    "import xgboost as xgb\n",
    "from sklearn.model_selection import GridSearchCV\n",
    "\n",
    "# xgboostモデルの作成\n",
    "clf_xgb = xgb.XGBClassifier()\n",
    "\n",
    "# ハイパーパラメータ探索\n",
    "clf_xgn = GridSearchCV(clf_xgb, {'max_depth': [2,4,6], 'n_estimators': [50,100,200]}, verbose=1)\n",
    "clf_xgn.fit(X_train, y_train)\n",
    "print (clf_xgn.best_params_, clf_xgn.best_score_)\n",
    "\n",
    "# 改めて最適パラメータで学習\n",
    "clf_xgb = xgb.XGBClassifier(**clf_xgn.best_params_)\n",
    "clf_xgb.fit(X_train, y_train)\n",
    "\n",
    "# 学習モデルの保存、読み込み\n",
    "import pickle\n",
    "pickle.dump(clf_xgb, open(\"model_xgb.pkl\", \"wb\"))\n",
    "clf_xgb = pickle.load(open(\"model_xgb.pkl\", \"rb\"))\n",
    "\n",
    "# 学習モデルの評価\n",
    "pred = clf_xgb.predict(X_test)\n",
    "print(confusion_matrix(y_test, pred))\n",
    "print(classification_report(y_test, pred))"
   ]
  },
  {
   "cell_type": "code",
   "execution_count": 53,
   "metadata": {},
   "outputs": [
    {
     "name": "stdout",
     "output_type": "stream",
     "text": [
      "0.6697216884146587\n",
      "対数尤度 = -11.407\n",
      "正答率 = 66.972%\n",
      "適合率（Precision） = 69.016%\n",
      "再現率（Recall） = 88.108%\n",
      "F1値（F1-score） = 77.402%\n"
     ]
    },
    {
     "data": {
      "text/html": [
       "<div>\n",
       "<style scoped>\n",
       "    .dataframe tbody tr th:only-of-type {\n",
       "        vertical-align: middle;\n",
       "    }\n",
       "\n",
       "    .dataframe tbody tr th {\n",
       "        vertical-align: top;\n",
       "    }\n",
       "\n",
       "    .dataframe thead th {\n",
       "        text-align: right;\n",
       "    }\n",
       "</style>\n",
       "<table border=\"1\" class=\"dataframe\">\n",
       "  <thead>\n",
       "    <tr style=\"text-align: right;\">\n",
       "      <th></th>\n",
       "      <th>予測 = fail</th>\n",
       "      <th>予測 = successful</th>\n",
       "    </tr>\n",
       "  </thead>\n",
       "  <tbody>\n",
       "    <tr>\n",
       "      <th>正解 = fail</th>\n",
       "      <td>41861</td>\n",
       "      <td>5911</td>\n",
       "    </tr>\n",
       "    <tr>\n",
       "      <th>正解 = successful</th>\n",
       "      <td>18661</td>\n",
       "      <td>7980</td>\n",
       "    </tr>\n",
       "  </tbody>\n",
       "</table>\n",
       "</div>"
      ],
      "text/plain": [
       "                 予測 = fail  予測 = successful\n",
       "正解 = fail            41861             5911\n",
       "正解 = successful      18661             7980"
      ]
     },
     "execution_count": 53,
     "metadata": {},
     "output_type": "execute_result"
    }
   ],
   "source": [
    "#正解率\n",
    "print(accuracy_score(y_test, pred))\n",
    "\n",
    "# 対数尤度を表示\n",
    "print('対数尤度 = {:.3f}'.format(- log_loss(y_test, pred)))\n",
    "\n",
    "# 正答率を表示\n",
    "print('正答率 = {:.3f}%'.format(100 * accuracy_score(y_test, pred)))\n",
    "\n",
    "# Precision, Recall, F1-scoreを計算\n",
    "precision, recall, f1_score, _ = precision_recall_fscore_support(y_test, pred)\n",
    "\n",
    "# カテゴリ「state」に関するPrecision, Recall, F1-scoreを表示\n",
    "print('適合率（Precision） = {:.3f}%'.format(100 * precision[0]))\n",
    "print('再現率（Recall） = {:.3f}%'.format(100 * recall[0]))\n",
    "print('F1値（F1-score） = {:.3f}%'.format(100 * f1_score[0]))\n",
    "\n",
    "# 予測値と正解のクロス集計\n",
    "conf_mat = pd.DataFrame(confusion_matrix(y_test, y_predict), \n",
    "                        index=['正解 = fail', '正解 = successful'], \n",
    "                        columns=['予測 = fail', '予測 = successful'])\n",
    "conf_mat"
   ]
  },
  {
   "cell_type": "code",
   "execution_count": 54,
   "metadata": {},
   "outputs": [
    {
     "name": "stdout",
     "output_type": "stream",
     "text": [
      "[0.26121548 0.22872452 0.05306933 0.09397195 0.01367055 0.00888934\n",
      " 0.08504287 0.19462478 0.04583235 0.01495881]\n"
     ]
    },
    {
     "data": {
      "image/png": "[encoded data removed]",
      "text/plain": [
       "<Figure size 720x720 with 1 Axes>"
      ]
     },
     "metadata": {
      "needs_background": "light"
     },
     "output_type": "display_data"
    }
   ],
   "source": [
    "print(clf_xgb.feature_importances_)\n",
    "\n",
    "feature_name=df[[\"goal_per_days_standardized\",\"deadline_days_standardized\",\"name_length_normalized\",\"category_Anthologies\",\"category_Chiptune\",\"name_quick\",\"name_theatre\",\"currency_USD\",\"name_first\",\"name_movie\"]].columns[0:]\n",
    "feature_name\n",
    "\n",
    "# 説明変数の重要度を棒グラフに出力する。\n",
    "pd.DataFrame(clf_xgb.feature_importances_, feature_name).plot.barh(figsize=(10,10))\n",
    "plt.ylabel(\"Importance\")\n",
    "plt.xlabel(\"Features\")\n",
    "plt.show()"
   ]
  },
  {
   "cell_type": "code",
   "execution_count": 63,
   "metadata": {},
   "outputs": [
    {
     "name": "stderr",
     "output_type": "stream",
     "text": [
      "/home/takuya-06261_semantic/anaconda3/envs/my_env/lib/python3.6/site-packages/lightgbm/engine.py:148: UserWarning: Found `num_iteration` in params. Will use it instead of argument\n",
      "  warnings.warn(\"Found `{}` in params. Will use it instead of argument\".format(alias))\n"
     ]
    },
    {
     "name": "stdout",
     "output_type": "stream",
     "text": [
      "[1]\tvalid_0's multi_logloss: 0.64447\n",
      "Training until validation scores don't improve for 10 rounds\n",
      "[2]\tvalid_0's multi_logloss: 0.638127\n",
      "[3]\tvalid_0's multi_logloss: 0.632941\n",
      "[4]\tvalid_0's multi_logloss: 0.62849\n",
      "[5]\tvalid_0's multi_logloss: 0.62473\n",
      "[6]\tvalid_0's multi_logloss: 0.621623\n",
      "[7]\tvalid_0's multi_logloss: 0.619035\n",
      "[8]\tvalid_0's multi_logloss: 0.616619\n",
      "[9]\tvalid_0's multi_logloss: 0.61465\n",
      "[10]\tvalid_0's multi_logloss: 0.61299\n",
      "[11]\tvalid_0's multi_logloss: 0.611464\n",
      "[12]\tvalid_0's multi_logloss: 0.610135\n",
      "[13]\tvalid_0's multi_logloss: 0.609033\n",
      "[14]\tvalid_0's multi_logloss: 0.608047\n",
      "[15]\tvalid_0's multi_logloss: 0.607182\n",
      "[16]\tvalid_0's multi_logloss: 0.606423\n",
      "[17]\tvalid_0's multi_logloss: 0.605689\n",
      "[18]\tvalid_0's multi_logloss: 0.605032\n",
      "[19]\tvalid_0's multi_logloss: 0.60452\n",
      "[20]\tvalid_0's multi_logloss: 0.604046\n",
      "[21]\tvalid_0's multi_logloss: 0.603591\n",
      "[22]\tvalid_0's multi_logloss: 0.603172\n",
      "[23]\tvalid_0's multi_logloss: 0.60283\n",
      "[24]\tvalid_0's multi_logloss: 0.602456\n",
      "[25]\tvalid_0's multi_logloss: 0.602132\n",
      "[26]\tvalid_0's multi_logloss: 0.601845\n",
      "[27]\tvalid_0's multi_logloss: 0.601594\n",
      "[28]\tvalid_0's multi_logloss: 0.601355\n",
      "[29]\tvalid_0's multi_logloss: 0.601142\n",
      "[30]\tvalid_0's multi_logloss: 0.600924\n",
      "[31]\tvalid_0's multi_logloss: 0.600748\n",
      "[32]\tvalid_0's multi_logloss: 0.600595\n",
      "[33]\tvalid_0's multi_logloss: 0.60044\n",
      "[34]\tvalid_0's multi_logloss: 0.60026\n",
      "[35]\tvalid_0's multi_logloss: 0.600096\n",
      "[36]\tvalid_0's multi_logloss: 0.599966\n",
      "[37]\tvalid_0's multi_logloss: 0.599814\n",
      "[38]\tvalid_0's multi_logloss: 0.599703\n",
      "[39]\tvalid_0's multi_logloss: 0.599608\n",
      "[40]\tvalid_0's multi_logloss: 0.599485\n",
      "[41]\tvalid_0's multi_logloss: 0.599397\n",
      "[42]\tvalid_0's multi_logloss: 0.599268\n",
      "[43]\tvalid_0's multi_logloss: 0.599157\n",
      "[44]\tvalid_0's multi_logloss: 0.599081\n",
      "[45]\tvalid_0's multi_logloss: 0.599016\n",
      "[46]\tvalid_0's multi_logloss: 0.59897\n",
      "[47]\tvalid_0's multi_logloss: 0.598849\n",
      "[48]\tvalid_0's multi_logloss: 0.598806\n",
      "[49]\tvalid_0's multi_logloss: 0.598759\n",
      "[50]\tvalid_0's multi_logloss: 0.598665\n",
      "[51]\tvalid_0's multi_logloss: 0.598631\n",
      "[52]\tvalid_0's multi_logloss: 0.598542\n",
      "[53]\tvalid_0's multi_logloss: 0.598488\n",
      "[54]\tvalid_0's multi_logloss: 0.598446\n",
      "[55]\tvalid_0's multi_logloss: 0.598409\n",
      "[56]\tvalid_0's multi_logloss: 0.598392\n",
      "[57]\tvalid_0's multi_logloss: 0.59836\n",
      "[58]\tvalid_0's multi_logloss: 0.598313\n",
      "[59]\tvalid_0's multi_logloss: 0.598266\n",
      "[60]\tvalid_0's multi_logloss: 0.598248\n",
      "[61]\tvalid_0's multi_logloss: 0.598237\n",
      "[62]\tvalid_0's multi_logloss: 0.59821\n",
      "[63]\tvalid_0's multi_logloss: 0.598193\n",
      "[64]\tvalid_0's multi_logloss: 0.598193\n",
      "[65]\tvalid_0's multi_logloss: 0.598183\n",
      "[66]\tvalid_0's multi_logloss: 0.598151\n",
      "[67]\tvalid_0's multi_logloss: 0.598121\n",
      "[68]\tvalid_0's multi_logloss: 0.598116\n",
      "[69]\tvalid_0's multi_logloss: 0.59811\n",
      "[70]\tvalid_0's multi_logloss: 0.598085\n",
      "[71]\tvalid_0's multi_logloss: 0.598065\n",
      "[72]\tvalid_0's multi_logloss: 0.598039\n",
      "[73]\tvalid_0's multi_logloss: 0.59802\n",
      "[74]\tvalid_0's multi_logloss: 0.598018\n",
      "[75]\tvalid_0's multi_logloss: 0.598022\n",
      "[76]\tvalid_0's multi_logloss: 0.598011\n",
      "[77]\tvalid_0's multi_logloss: 0.598003\n",
      "[78]\tvalid_0's multi_logloss: 0.597992\n",
      "[79]\tvalid_0's multi_logloss: 0.597983\n",
      "[80]\tvalid_0's multi_logloss: 0.598\n",
      "[81]\tvalid_0's multi_logloss: 0.597992\n",
      "[82]\tvalid_0's multi_logloss: 0.597998\n",
      "[83]\tvalid_0's multi_logloss: 0.597983\n",
      "[84]\tvalid_0's multi_logloss: 0.597961\n",
      "[85]\tvalid_0's multi_logloss: 0.597963\n",
      "[86]\tvalid_0's multi_logloss: 0.597957\n",
      "[87]\tvalid_0's multi_logloss: 0.597959\n",
      "[88]\tvalid_0's multi_logloss: 0.597954\n",
      "[89]\tvalid_0's multi_logloss: 0.597952\n",
      "[90]\tvalid_0's multi_logloss: 0.597909\n",
      "[91]\tvalid_0's multi_logloss: 0.597894\n",
      "[92]\tvalid_0's multi_logloss: 0.597898\n",
      "[93]\tvalid_0's multi_logloss: 0.597901\n",
      "[94]\tvalid_0's multi_logloss: 0.597891\n",
      "[95]\tvalid_0's multi_logloss: 0.597888\n",
      "[96]\tvalid_0's multi_logloss: 0.597881\n",
      "[97]\tvalid_0's multi_logloss: 0.597872\n",
      "[98]\tvalid_0's multi_logloss: 0.597865\n",
      "[99]\tvalid_0's multi_logloss: 0.597856\n",
      "[100]\tvalid_0's multi_logloss: 0.597851\n",
      "[101]\tvalid_0's multi_logloss: 0.597855\n",
      "[102]\tvalid_0's multi_logloss: 0.597852\n",
      "[103]\tvalid_0's multi_logloss: 0.597856\n",
      "[104]\tvalid_0's multi_logloss: 0.59785\n",
      "[105]\tvalid_0's multi_logloss: 0.597849\n",
      "[106]\tvalid_0's multi_logloss: 0.59785\n",
      "[107]\tvalid_0's multi_logloss: 0.597851\n",
      "[108]\tvalid_0's multi_logloss: 0.59785\n",
      "[109]\tvalid_0's multi_logloss: 0.597859\n",
      "[110]\tvalid_0's multi_logloss: 0.597827\n",
      "[111]\tvalid_0's multi_logloss: 0.597835\n",
      "[112]\tvalid_0's multi_logloss: 0.597833\n",
      "[113]\tvalid_0's multi_logloss: 0.597831\n",
      "[114]\tvalid_0's multi_logloss: 0.597828\n",
      "[115]\tvalid_0's multi_logloss: 0.59783\n",
      "[116]\tvalid_0's multi_logloss: 0.59782\n",
      "[117]\tvalid_0's multi_logloss: 0.597818\n",
      "[118]\tvalid_0's multi_logloss: 0.597815\n",
      "[119]\tvalid_0's multi_logloss: 0.597818\n",
      "[120]\tvalid_0's multi_logloss: 0.597806\n",
      "[121]\tvalid_0's multi_logloss: 0.597817\n",
      "[122]\tvalid_0's multi_logloss: 0.597809\n",
      "[123]\tvalid_0's multi_logloss: 0.597814\n",
      "[124]\tvalid_0's multi_logloss: 0.597806\n",
      "[125]\tvalid_0's multi_logloss: 0.597796\n",
      "[126]\tvalid_0's multi_logloss: 0.597796\n",
      "[127]\tvalid_0's multi_logloss: 0.597806\n",
      "[128]\tvalid_0's multi_logloss: 0.597779\n",
      "[129]\tvalid_0's multi_logloss: 0.597778\n",
      "[130]\tvalid_0's multi_logloss: 0.597791\n",
      "[131]\tvalid_0's multi_logloss: 0.597791\n",
      "[132]\tvalid_0's multi_logloss: 0.597784\n",
      "[133]\tvalid_0's multi_logloss: 0.597793\n",
      "[134]\tvalid_0's multi_logloss: 0.597789\n",
      "[135]\tvalid_0's multi_logloss: 0.597793\n",
      "[136]\tvalid_0's multi_logloss: 0.597794\n",
      "[137]\tvalid_0's multi_logloss: 0.597802\n",
      "[138]\tvalid_0's multi_logloss: 0.597807\n",
      "[139]\tvalid_0's multi_logloss: 0.597815\n",
      "Early stopping, best iteration is:\n",
      "[129]\tvalid_0's multi_logloss: 0.597778\n"
     ]
    }
   ],
   "source": [
    "import lightgbm as lgb\n",
    "\n",
    "lgb_train = lgb.Dataset(X_train, y_train)\n",
    "lgb_eval = lgb.Dataset(X_test, y_test, reference=lgb_train)\n",
    "\n",
    "# LightGBM parameters\n",
    "params = {\n",
    "        'task': 'train',\n",
    "        'boosting_type': 'gbdt',\n",
    "        'objective': 'multiclass',\n",
    "        'metric': {'multi_logloss'},\n",
    "        'num_class': 3,\n",
    "        'learning_rate': 0.1,\n",
    "        'num_leaves': 23,\n",
    "        'min_data_in_leaf': 1,\n",
    "        'num_iteration': 200,\n",
    "        'verbose': 0\n",
    "}\n",
    "\n",
    "# train\n",
    "gbm = lgb.train(params,\n",
    "            lgb_train,\n",
    "            num_boost_round=50,\n",
    "            valid_sets=lgb_eval,\n",
    "            early_stopping_rounds=10)\n",
    "y_pred = gbm.predict(X_test, num_iteration=gbm.best_iteration)\n",
    "y_pred = np.argmax(y_pred, axis=1)"
   ]
  },
  {
   "cell_type": "code",
   "execution_count": 64,
   "metadata": {},
   "outputs": [
    {
     "name": "stdout",
     "output_type": "stream",
     "text": [
      "0.6700576512168572\n",
      "対数尤度 = -11.396\n",
      "正答率 = 67.006%\n",
      "適合率（Precision） = 69.306%\n",
      "再現率（Recall） = 87.246%\n",
      "F1値（F1-score） = 77.248%\n"
     ]
    },
    {
     "data": {
      "text/html": [
       "<div>\n",
       "<style scoped>\n",
       "    .dataframe tbody tr th:only-of-type {\n",
       "        vertical-align: middle;\n",
       "    }\n",
       "\n",
       "    .dataframe tbody tr th {\n",
       "        vertical-align: top;\n",
       "    }\n",
       "\n",
       "    .dataframe thead th {\n",
       "        text-align: right;\n",
       "    }\n",
       "</style>\n",
       "<table border=\"1\" class=\"dataframe\">\n",
       "  <thead>\n",
       "    <tr style=\"text-align: right;\">\n",
       "      <th></th>\n",
       "      <th>予測 = fail</th>\n",
       "      <th>予測 = successful</th>\n",
       "    </tr>\n",
       "  </thead>\n",
       "  <tbody>\n",
       "    <tr>\n",
       "      <th>正解 = fail</th>\n",
       "      <td>41861</td>\n",
       "      <td>5911</td>\n",
       "    </tr>\n",
       "    <tr>\n",
       "      <th>正解 = successful</th>\n",
       "      <td>18661</td>\n",
       "      <td>7980</td>\n",
       "    </tr>\n",
       "  </tbody>\n",
       "</table>\n",
       "</div>"
      ],
      "text/plain": [
       "                 予測 = fail  予測 = successful\n",
       "正解 = fail            41861             5911\n",
       "正解 = successful      18661             7980"
      ]
     },
     "execution_count": 64,
     "metadata": {},
     "output_type": "execute_result"
    }
   ],
   "source": [
    "#正解率\n",
    "print(accuracy_score(y_test, y_pred))\n",
    "\n",
    "# 対数尤度を表示\n",
    "print('対数尤度 = {:.3f}'.format(- log_loss(y_test, y_pred)))\n",
    "\n",
    "# 正答率を表示\n",
    "print('正答率 = {:.3f}%'.format(100 * accuracy_score(y_test, y_pred)))\n",
    "\n",
    "# Precision, Recall, F1-scoreを計算\n",
    "precision, recall, f1_score, _ = precision_recall_fscore_support(y_test, y_pred)\n",
    "\n",
    "# カテゴリ「state」に関するPrecision, Recall, F1-scoreを表示\n",
    "print('適合率（Precision） = {:.3f}%'.format(100 * precision[0]))\n",
    "print('再現率（Recall） = {:.3f}%'.format(100 * recall[0]))\n",
    "print('F1値（F1-score） = {:.3f}%'.format(100 * f1_score[0]))\n",
    "\n",
    "# 予測値と正解のクロス集計\n",
    "conf_mat = pd.DataFrame(confusion_matrix(y_test, y_predict), \n",
    "                        index=['正解 = fail', '正解 = successful'], \n",
    "                        columns=['予測 = fail', '予測 = successful'])\n",
    "conf_mat"
   ]
  },
  {
   "cell_type": "code",
   "execution_count": null,
   "metadata": {},
   "outputs": [],
   "source": []
  }
 ],
 "metadata": {
  "kernelspec": {
   "display_name": "Python 3",
   "language": "python",
   "name": "python3"
  },
  "language_info": {
   "codemirror_mode": {
    "name": "ipython",
    "version": 3
   },
   "file_extension": ".py",
   "mimetype": "text/x-python",
   "name": "python",
   "nbconvert_exporter": "python",
   "pygments_lexer": "ipython3",
   "version": "3.6.9"
  }
 },
 "nbformat": 4,
 "nbformat_minor": 4
}
